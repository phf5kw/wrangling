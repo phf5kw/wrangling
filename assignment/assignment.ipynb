{
  "cells": [
    {
      "cell_type": "markdown",
      "id": "13ad028b-72b7-43ed-aa78-96fd4e518040",
      "metadata": {
        "id": "13ad028b-72b7-43ed-aa78-96fd4e518040"
      },
      "source": [
        "# Assignment: Data Wrangling\n",
        "## `! git clone https://github.com/DS3001/wrangling`"
      ]
    },
    {
      "cell_type": "code",
      "source": [
        "! git clone https://github.com/DS3001/wrangling"
      ],
      "metadata": {
        "colab": {
          "base_uri": "https://localhost:8080/"
        },
        "id": "_MZ5LXlhAAK7",
        "outputId": "4c0d058d-cdd8-4118-ca54-2422f5f046c3"
      },
      "id": "_MZ5LXlhAAK7",
      "execution_count": 2,
      "outputs": [
        {
          "output_type": "stream",
          "name": "stdout",
          "text": [
            "Cloning into 'wrangling'...\n",
            "remote: Enumerating objects: 83, done.\u001b[K\n",
            "remote: Counting objects: 100% (40/40), done.\u001b[K\n",
            "remote: Compressing objects: 100% (29/29), done.\u001b[K\n",
            "remote: Total 83 (delta 31), reused 11 (delta 11), pack-reused 43\u001b[K\n",
            "Receiving objects: 100% (83/83), 10.85 MiB | 18.70 MiB/s, done.\n",
            "Resolving deltas: 100% (36/36), done.\n"
          ]
        }
      ]
    },
    {
      "cell_type": "markdown",
      "id": "5735a4d4-8be8-433a-a351-70eb8002e632",
      "metadata": {
        "id": "5735a4d4-8be8-433a-a351-70eb8002e632"
      },
      "source": [
        "**Q1.** Open the \"tidy_data.pdf\" document in the repo, which is a paper called Tidy Data by Hadley Wickham.\n",
        "\n",
        "  1. Read the abstract. What is this paper about?\n",
        "\n",
        "  > The paper is about using the tidy framework to deal with messy data. Using a small set of tools, we can clean many different data sets into a consistent structure and also easily make new data cleaning tools.\n",
        "\n",
        "  2. Read the introduction. What is the \"tidy data standard\" intended to accomplish?\n",
        "\n",
        "\n",
        "  3. Read the intro to section 2. What does this sentence mean: \"Like families, tidy datasets are all alike but every messy dataset is messy in its own way.\" What does this sentence mean: \"For a given dataset, it’s usually easy to figure out what are observations and what are variables, but it is surprisingly difficult to precisely define variables and observations in general.\"\n",
        "\n",
        "\n",
        "  4. Read Section 2.2. How does Wickham define values, variables, and observations?\n",
        "\n",
        "  5. How is \"Tidy Data\" defined in section 2.3?\n",
        "\n",
        "\n",
        "  6. Read the intro to Section 3 and Section 3.1. What are the 5 most common problems with messy datasets? Why are the data in Table 4 messy? What is \"melting\" a dataset?\n",
        "\n",
        "\n",
        "  7. Why, specifically, is table 11 messy but table 12 tidy and \"molten\"?\n",
        "\n",
        "\n",
        "  8. Read Section 6. What is the \"chicken-and-egg\" problem with focusing on tidy data? What does Wickham hope happens in the future with further work on the subject of data wrangling?"
      ]
    },
    {
      "cell_type": "markdown",
      "id": "da879ea7-8aac-48a3-b6c2-daea56d2e072",
      "metadata": {
        "id": "da879ea7-8aac-48a3-b6c2-daea56d2e072"
      },
      "source": [
        "**Q2.** This question provides some practice cleaning variables which have common problems.\n",
        "1. Numeric variable: For `./data/airbnb_hw.csv`, clean the `Price` variable as well as you can, and explain the choices you make. How many missing values do you end up with? (Hint: What happens to the formatting when a price goes over 999 dollars, say from 675 to 1,112?)\n",
        "2. Categorical variable: For the `./data/sharks.csv` data covered in the lecture, clean the \"Type\" variable as well as you can, and explain the choices you make.\n",
        "3. Dummy variable: For the pretrial data covered in the lecture, clean the `WhetherDefendantWasReleasedPretrial` variable as well as you can, and, in particular, replace missing values with `np.nan`.\n",
        "4. Missing values, not at random: For the pretrial data covered in the lecture, clean the `ImposedSentenceAllChargeInContactEvent` variable as well as you can, and explain the choices you make. (Hint: Look at the `SentenceTypeAllChargesAtConvictionInContactEvent` variable.)"
      ]
    },
    {
      "cell_type": "code",
      "source": [
        "import pandas as pd\n",
        "import numpy as np\n",
        "import seaborn as sns\n",
        "import os"
      ],
      "metadata": {
        "id": "-Xla3GQJATer"
      },
      "id": "-Xla3GQJATer",
      "execution_count": 4,
      "outputs": []
    },
    {
      "cell_type": "markdown",
      "metadata": {
        "id": "L6S9wkdlAAbx"
      },
      "source": [
        "**Q2.** This question provides some practice cleaning variables which have common problems.\n",
        "1. Numeric variable: For `./data/airbnb_hw.csv`, clean the `Price` variable as well as you can, and explain the choices you make. How many missing values do you end up with? (Hint: What happens to the formatting when a price goes over 999 dollars, say from 675 to 1,112?)\n",
        "\n",
        "I took out all the commas and converted the price variable to string. There are no missing values.\n",
        "\n",
        "2. Categorical variable: For the `./data/sharks.csv` data covered in the lecture, clean the \"Type\" variable as well as you can, and explain the choices you make.\n",
        "\n",
        "I lumped all of the cases involving people at sea on some water mobile as watercraft to specify that they were not originally in the water. I also discarded all the data where the data was not known to be fully correct or complete, since we don't want to use those.\n",
        "\n",
        "3. Dummy variable: For the pretrial data covered in the lecture, clean the `WhetherDefendantWasReleasedPretrial` variable as well as you can, and, in particular, replace missing values with `np.nan`.\n",
        "4. Missing values, not at random: For the pretrial data covered in the lecture, clean the `ImposedSentenceAllChargeInContactEvent` variable as well as you can, and explain the choices you make. (Hint: Look at the `SentenceTypeAllChargesAtConvictionInContactEvent` variable.)\n"
      ],
      "id": "L6S9wkdlAAbx"
    },
    {
      "cell_type": "code",
      "source": [
        "\n",
        "df = pd.read_csv('./wrangling/assignment/data/airbnb_hw.csv', low_memory=False)\n",
        "print( df.shape, '\\n')\n",
        "df.head()"
      ],
      "metadata": {
        "colab": {
          "base_uri": "https://localhost:8080/",
          "height": 504
        },
        "id": "2MftVL79AIsL",
        "outputId": "a38d6927-ab6e-4d4b-9f8e-a1bcbd1df5bb"
      },
      "id": "2MftVL79AIsL",
      "execution_count": 5,
      "outputs": [
        {
          "output_type": "stream",
          "name": "stdout",
          "text": [
            "(30478, 13) \n",
            "\n"
          ]
        },
        {
          "output_type": "execute_result",
          "data": {
            "text/plain": [
              "    Host Id Host Since                                Name Neighbourhood   \\\n",
              "0   5162530        NaN     1 Bedroom in Prime Williamsburg       Brooklyn   \n",
              "1  33134899        NaN     Sunny, Private room in Bushwick       Brooklyn   \n",
              "2  39608626        NaN                Sunny Room in Harlem      Manhattan   \n",
              "3       500  6/26/2008  Gorgeous 1 BR with Private Balcony      Manhattan   \n",
              "4       500  6/26/2008            Trendy Times Square Loft      Manhattan   \n",
              "\n",
              "  Property Type  Review Scores Rating (bin)        Room Type  Zipcode  Beds  \\\n",
              "0     Apartment                         NaN  Entire home/apt  11249.0   1.0   \n",
              "1     Apartment                         NaN     Private room  11206.0   1.0   \n",
              "2     Apartment                         NaN     Private room  10032.0   1.0   \n",
              "3     Apartment                         NaN  Entire home/apt  10024.0   3.0   \n",
              "4     Apartment                        95.0     Private room  10036.0   3.0   \n",
              "\n",
              "   Number of Records  Number Of Reviews Price  Review Scores Rating  \n",
              "0                  1                  0   145                   NaN  \n",
              "1                  1                  1    37                   NaN  \n",
              "2                  1                  1    28                   NaN  \n",
              "3                  1                  0   199                   NaN  \n",
              "4                  1                 39   549                  96.0  "
            ],
            "text/html": [
              "\n",
              "  <div id=\"df-ca2c5f98-2cc7-49f8-b021-5e62e041339b\" class=\"colab-df-container\">\n",
              "    <div>\n",
              "<style scoped>\n",
              "    .dataframe tbody tr th:only-of-type {\n",
              "        vertical-align: middle;\n",
              "    }\n",
              "\n",
              "    .dataframe tbody tr th {\n",
              "        vertical-align: top;\n",
              "    }\n",
              "\n",
              "    .dataframe thead th {\n",
              "        text-align: right;\n",
              "    }\n",
              "</style>\n",
              "<table border=\"1\" class=\"dataframe\">\n",
              "  <thead>\n",
              "    <tr style=\"text-align: right;\">\n",
              "      <th></th>\n",
              "      <th>Host Id</th>\n",
              "      <th>Host Since</th>\n",
              "      <th>Name</th>\n",
              "      <th>Neighbourhood</th>\n",
              "      <th>Property Type</th>\n",
              "      <th>Review Scores Rating (bin)</th>\n",
              "      <th>Room Type</th>\n",
              "      <th>Zipcode</th>\n",
              "      <th>Beds</th>\n",
              "      <th>Number of Records</th>\n",
              "      <th>Number Of Reviews</th>\n",
              "      <th>Price</th>\n",
              "      <th>Review Scores Rating</th>\n",
              "    </tr>\n",
              "  </thead>\n",
              "  <tbody>\n",
              "    <tr>\n",
              "      <th>0</th>\n",
              "      <td>5162530</td>\n",
              "      <td>NaN</td>\n",
              "      <td>1 Bedroom in Prime Williamsburg</td>\n",
              "      <td>Brooklyn</td>\n",
              "      <td>Apartment</td>\n",
              "      <td>NaN</td>\n",
              "      <td>Entire home/apt</td>\n",
              "      <td>11249.0</td>\n",
              "      <td>1.0</td>\n",
              "      <td>1</td>\n",
              "      <td>0</td>\n",
              "      <td>145</td>\n",
              "      <td>NaN</td>\n",
              "    </tr>\n",
              "    <tr>\n",
              "      <th>1</th>\n",
              "      <td>33134899</td>\n",
              "      <td>NaN</td>\n",
              "      <td>Sunny, Private room in Bushwick</td>\n",
              "      <td>Brooklyn</td>\n",
              "      <td>Apartment</td>\n",
              "      <td>NaN</td>\n",
              "      <td>Private room</td>\n",
              "      <td>11206.0</td>\n",
              "      <td>1.0</td>\n",
              "      <td>1</td>\n",
              "      <td>1</td>\n",
              "      <td>37</td>\n",
              "      <td>NaN</td>\n",
              "    </tr>\n",
              "    <tr>\n",
              "      <th>2</th>\n",
              "      <td>39608626</td>\n",
              "      <td>NaN</td>\n",
              "      <td>Sunny Room in Harlem</td>\n",
              "      <td>Manhattan</td>\n",
              "      <td>Apartment</td>\n",
              "      <td>NaN</td>\n",
              "      <td>Private room</td>\n",
              "      <td>10032.0</td>\n",
              "      <td>1.0</td>\n",
              "      <td>1</td>\n",
              "      <td>1</td>\n",
              "      <td>28</td>\n",
              "      <td>NaN</td>\n",
              "    </tr>\n",
              "    <tr>\n",
              "      <th>3</th>\n",
              "      <td>500</td>\n",
              "      <td>6/26/2008</td>\n",
              "      <td>Gorgeous 1 BR with Private Balcony</td>\n",
              "      <td>Manhattan</td>\n",
              "      <td>Apartment</td>\n",
              "      <td>NaN</td>\n",
              "      <td>Entire home/apt</td>\n",
              "      <td>10024.0</td>\n",
              "      <td>3.0</td>\n",
              "      <td>1</td>\n",
              "      <td>0</td>\n",
              "      <td>199</td>\n",
              "      <td>NaN</td>\n",
              "    </tr>\n",
              "    <tr>\n",
              "      <th>4</th>\n",
              "      <td>500</td>\n",
              "      <td>6/26/2008</td>\n",
              "      <td>Trendy Times Square Loft</td>\n",
              "      <td>Manhattan</td>\n",
              "      <td>Apartment</td>\n",
              "      <td>95.0</td>\n",
              "      <td>Private room</td>\n",
              "      <td>10036.0</td>\n",
              "      <td>3.0</td>\n",
              "      <td>1</td>\n",
              "      <td>39</td>\n",
              "      <td>549</td>\n",
              "      <td>96.0</td>\n",
              "    </tr>\n",
              "  </tbody>\n",
              "</table>\n",
              "</div>\n",
              "    <div class=\"colab-df-buttons\">\n",
              "\n",
              "  <div class=\"colab-df-container\">\n",
              "    <button class=\"colab-df-convert\" onclick=\"convertToInteractive('df-ca2c5f98-2cc7-49f8-b021-5e62e041339b')\"\n",
              "            title=\"Convert this dataframe to an interactive table.\"\n",
              "            style=\"display:none;\">\n",
              "\n",
              "  <svg xmlns=\"http://www.w3.org/2000/svg\" height=\"24px\" viewBox=\"0 -960 960 960\">\n",
              "    <path d=\"M120-120v-720h720v720H120Zm60-500h600v-160H180v160Zm220 220h160v-160H400v160Zm0 220h160v-160H400v160ZM180-400h160v-160H180v160Zm440 0h160v-160H620v160ZM180-180h160v-160H180v160Zm440 0h160v-160H620v160Z\"/>\n",
              "  </svg>\n",
              "    </button>\n",
              "\n",
              "  <style>\n",
              "    .colab-df-container {\n",
              "      display:flex;\n",
              "      gap: 12px;\n",
              "    }\n",
              "\n",
              "    .colab-df-convert {\n",
              "      background-color: #E8F0FE;\n",
              "      border: none;\n",
              "      border-radius: 50%;\n",
              "      cursor: pointer;\n",
              "      display: none;\n",
              "      fill: #1967D2;\n",
              "      height: 32px;\n",
              "      padding: 0 0 0 0;\n",
              "      width: 32px;\n",
              "    }\n",
              "\n",
              "    .colab-df-convert:hover {\n",
              "      background-color: #E2EBFA;\n",
              "      box-shadow: 0px 1px 2px rgba(60, 64, 67, 0.3), 0px 1px 3px 1px rgba(60, 64, 67, 0.15);\n",
              "      fill: #174EA6;\n",
              "    }\n",
              "\n",
              "    .colab-df-buttons div {\n",
              "      margin-bottom: 4px;\n",
              "    }\n",
              "\n",
              "    [theme=dark] .colab-df-convert {\n",
              "      background-color: #3B4455;\n",
              "      fill: #D2E3FC;\n",
              "    }\n",
              "\n",
              "    [theme=dark] .colab-df-convert:hover {\n",
              "      background-color: #434B5C;\n",
              "      box-shadow: 0px 1px 3px 1px rgba(0, 0, 0, 0.15);\n",
              "      filter: drop-shadow(0px 1px 2px rgba(0, 0, 0, 0.3));\n",
              "      fill: #FFFFFF;\n",
              "    }\n",
              "  </style>\n",
              "\n",
              "    <script>\n",
              "      const buttonEl =\n",
              "        document.querySelector('#df-ca2c5f98-2cc7-49f8-b021-5e62e041339b button.colab-df-convert');\n",
              "      buttonEl.style.display =\n",
              "        google.colab.kernel.accessAllowed ? 'block' : 'none';\n",
              "\n",
              "      async function convertToInteractive(key) {\n",
              "        const element = document.querySelector('#df-ca2c5f98-2cc7-49f8-b021-5e62e041339b');\n",
              "        const dataTable =\n",
              "          await google.colab.kernel.invokeFunction('convertToInteractive',\n",
              "                                                    [key], {});\n",
              "        if (!dataTable) return;\n",
              "\n",
              "        const docLinkHtml = 'Like what you see? Visit the ' +\n",
              "          '<a target=\"_blank\" href=https://colab.research.google.com/notebooks/data_table.ipynb>data table notebook</a>'\n",
              "          + ' to learn more about interactive tables.';\n",
              "        element.innerHTML = '';\n",
              "        dataTable['output_type'] = 'display_data';\n",
              "        await google.colab.output.renderOutput(dataTable, element);\n",
              "        const docLink = document.createElement('div');\n",
              "        docLink.innerHTML = docLinkHtml;\n",
              "        element.appendChild(docLink);\n",
              "      }\n",
              "    </script>\n",
              "  </div>\n",
              "\n",
              "\n",
              "<div id=\"df-9b5ef34f-c602-4086-8676-c6417acf6d8f\">\n",
              "  <button class=\"colab-df-quickchart\" onclick=\"quickchart('df-9b5ef34f-c602-4086-8676-c6417acf6d8f')\"\n",
              "            title=\"Suggest charts\"\n",
              "            style=\"display:none;\">\n",
              "\n",
              "<svg xmlns=\"http://www.w3.org/2000/svg\" height=\"24px\"viewBox=\"0 0 24 24\"\n",
              "     width=\"24px\">\n",
              "    <g>\n",
              "        <path d=\"M19 3H5c-1.1 0-2 .9-2 2v14c0 1.1.9 2 2 2h14c1.1 0 2-.9 2-2V5c0-1.1-.9-2-2-2zM9 17H7v-7h2v7zm4 0h-2V7h2v10zm4 0h-2v-4h2v4z\"/>\n",
              "    </g>\n",
              "</svg>\n",
              "  </button>\n",
              "\n",
              "<style>\n",
              "  .colab-df-quickchart {\n",
              "      --bg-color: #E8F0FE;\n",
              "      --fill-color: #1967D2;\n",
              "      --hover-bg-color: #E2EBFA;\n",
              "      --hover-fill-color: #174EA6;\n",
              "      --disabled-fill-color: #AAA;\n",
              "      --disabled-bg-color: #DDD;\n",
              "  }\n",
              "\n",
              "  [theme=dark] .colab-df-quickchart {\n",
              "      --bg-color: #3B4455;\n",
              "      --fill-color: #D2E3FC;\n",
              "      --hover-bg-color: #434B5C;\n",
              "      --hover-fill-color: #FFFFFF;\n",
              "      --disabled-bg-color: #3B4455;\n",
              "      --disabled-fill-color: #666;\n",
              "  }\n",
              "\n",
              "  .colab-df-quickchart {\n",
              "    background-color: var(--bg-color);\n",
              "    border: none;\n",
              "    border-radius: 50%;\n",
              "    cursor: pointer;\n",
              "    display: none;\n",
              "    fill: var(--fill-color);\n",
              "    height: 32px;\n",
              "    padding: 0;\n",
              "    width: 32px;\n",
              "  }\n",
              "\n",
              "  .colab-df-quickchart:hover {\n",
              "    background-color: var(--hover-bg-color);\n",
              "    box-shadow: 0 1px 2px rgba(60, 64, 67, 0.3), 0 1px 3px 1px rgba(60, 64, 67, 0.15);\n",
              "    fill: var(--button-hover-fill-color);\n",
              "  }\n",
              "\n",
              "  .colab-df-quickchart-complete:disabled,\n",
              "  .colab-df-quickchart-complete:disabled:hover {\n",
              "    background-color: var(--disabled-bg-color);\n",
              "    fill: var(--disabled-fill-color);\n",
              "    box-shadow: none;\n",
              "  }\n",
              "\n",
              "  .colab-df-spinner {\n",
              "    border: 2px solid var(--fill-color);\n",
              "    border-color: transparent;\n",
              "    border-bottom-color: var(--fill-color);\n",
              "    animation:\n",
              "      spin 1s steps(1) infinite;\n",
              "  }\n",
              "\n",
              "  @keyframes spin {\n",
              "    0% {\n",
              "      border-color: transparent;\n",
              "      border-bottom-color: var(--fill-color);\n",
              "      border-left-color: var(--fill-color);\n",
              "    }\n",
              "    20% {\n",
              "      border-color: transparent;\n",
              "      border-left-color: var(--fill-color);\n",
              "      border-top-color: var(--fill-color);\n",
              "    }\n",
              "    30% {\n",
              "      border-color: transparent;\n",
              "      border-left-color: var(--fill-color);\n",
              "      border-top-color: var(--fill-color);\n",
              "      border-right-color: var(--fill-color);\n",
              "    }\n",
              "    40% {\n",
              "      border-color: transparent;\n",
              "      border-right-color: var(--fill-color);\n",
              "      border-top-color: var(--fill-color);\n",
              "    }\n",
              "    60% {\n",
              "      border-color: transparent;\n",
              "      border-right-color: var(--fill-color);\n",
              "    }\n",
              "    80% {\n",
              "      border-color: transparent;\n",
              "      border-right-color: var(--fill-color);\n",
              "      border-bottom-color: var(--fill-color);\n",
              "    }\n",
              "    90% {\n",
              "      border-color: transparent;\n",
              "      border-bottom-color: var(--fill-color);\n",
              "    }\n",
              "  }\n",
              "</style>\n",
              "\n",
              "  <script>\n",
              "    async function quickchart(key) {\n",
              "      const quickchartButtonEl =\n",
              "        document.querySelector('#' + key + ' button');\n",
              "      quickchartButtonEl.disabled = true;  // To prevent multiple clicks.\n",
              "      quickchartButtonEl.classList.add('colab-df-spinner');\n",
              "      try {\n",
              "        const charts = await google.colab.kernel.invokeFunction(\n",
              "            'suggestCharts', [key], {});\n",
              "      } catch (error) {\n",
              "        console.error('Error during call to suggestCharts:', error);\n",
              "      }\n",
              "      quickchartButtonEl.classList.remove('colab-df-spinner');\n",
              "      quickchartButtonEl.classList.add('colab-df-quickchart-complete');\n",
              "    }\n",
              "    (() => {\n",
              "      let quickchartButtonEl =\n",
              "        document.querySelector('#df-9b5ef34f-c602-4086-8676-c6417acf6d8f button');\n",
              "      quickchartButtonEl.style.display =\n",
              "        google.colab.kernel.accessAllowed ? 'block' : 'none';\n",
              "    })();\n",
              "  </script>\n",
              "</div>\n",
              "    </div>\n",
              "  </div>\n"
            ],
            "application/vnd.google.colaboratory.intrinsic+json": {
              "type": "dataframe",
              "variable_name": "df",
              "summary": "{\n  \"name\": \"df\",\n  \"rows\": 30478,\n  \"fields\": [\n    {\n      \"column\": \"Host Id\",\n      \"properties\": {\n        \"dtype\": \"number\",\n        \"std\": 11902702,\n        \"min\": 500,\n        \"max\": 43033067,\n        \"samples\": [\n          24093114,\n          16925490,\n          2886652\n        ],\n        \"num_unique_values\": 24421,\n        \"semantic_type\": \"\",\n        \"description\": \"\"\n      }\n    },\n    {\n      \"column\": \"Host Since\",\n      \"properties\": {\n        \"dtype\": \"date\",\n        \"min\": \"2008-06-26 00:00:00\",\n        \"max\": \"2015-08-31 00:00:00\",\n        \"samples\": [\n          \"5/20/2010\",\n          \"7/2/2009\",\n          \"4/18/2015\"\n        ],\n        \"num_unique_values\": 2240,\n        \"semantic_type\": \"\",\n        \"description\": \"\"\n      }\n    },\n    {\n      \"column\": \"Name\",\n      \"properties\": {\n        \"dtype\": \"string\",\n        \"samples\": [\n          \"Explore the beauty of Brooklyn\",\n          \"Sunny Room in Williamsburg Loft\",\n          \"cozy one bedroom in lower east side\"\n        ],\n        \"num_unique_values\": 29413,\n        \"semantic_type\": \"\",\n        \"description\": \"\"\n      }\n    },\n    {\n      \"column\": \"Neighbourhood \",\n      \"properties\": {\n        \"dtype\": \"category\",\n        \"samples\": [\n          \"Manhattan\",\n          \"Staten Island\",\n          \"Queens\"\n        ],\n        \"num_unique_values\": 5,\n        \"semantic_type\": \"\",\n        \"description\": \"\"\n      }\n    },\n    {\n      \"column\": \"Property Type\",\n      \"properties\": {\n        \"dtype\": \"category\",\n        \"samples\": [\n          \"Apartment\",\n          \"Condominium\",\n          \"Bungalow\"\n        ],\n        \"num_unique_values\": 19,\n        \"semantic_type\": \"\",\n        \"description\": \"\"\n      }\n    },\n    {\n      \"column\": \"Review Scores Rating (bin)\",\n      \"properties\": {\n        \"dtype\": \"number\",\n        \"std\": 9.059518618147278,\n        \"min\": 20.0,\n        \"max\": 100.0,\n        \"samples\": [\n          40.0,\n          20.0,\n          95.0\n        ],\n        \"num_unique_values\": 15,\n        \"semantic_type\": \"\",\n        \"description\": \"\"\n      }\n    },\n    {\n      \"column\": \"Room Type\",\n      \"properties\": {\n        \"dtype\": \"category\",\n        \"samples\": [\n          \"Entire home/apt\",\n          \"Private room\",\n          \"Shared room\"\n        ],\n        \"num_unique_values\": 3,\n        \"semantic_type\": \"\",\n        \"description\": \"\"\n      }\n    },\n    {\n      \"column\": \"Zipcode\",\n      \"properties\": {\n        \"dtype\": \"number\",\n        \"std\": 921.299396956856,\n        \"min\": 1003.0,\n        \"max\": 99135.0,\n        \"samples\": [\n          11414.0,\n          11239.0,\n          11365.0\n        ],\n        \"num_unique_values\": 188,\n        \"semantic_type\": \"\",\n        \"description\": \"\"\n      }\n    },\n    {\n      \"column\": \"Beds\",\n      \"properties\": {\n        \"dtype\": \"number\",\n        \"std\": 1.0153587174803154,\n        \"min\": 0.0,\n        \"max\": 16.0,\n        \"samples\": [\n          12.0,\n          16.0,\n          1.0\n        ],\n        \"num_unique_values\": 14,\n        \"semantic_type\": \"\",\n        \"description\": \"\"\n      }\n    },\n    {\n      \"column\": \"Number of Records\",\n      \"properties\": {\n        \"dtype\": \"number\",\n        \"std\": 0,\n        \"min\": 1,\n        \"max\": 1,\n        \"samples\": [\n          1\n        ],\n        \"num_unique_values\": 1,\n        \"semantic_type\": \"\",\n        \"description\": \"\"\n      }\n    },\n    {\n      \"column\": \"Number Of Reviews\",\n      \"properties\": {\n        \"dtype\": \"number\",\n        \"std\": 21,\n        \"min\": 0,\n        \"max\": 257,\n        \"samples\": [\n          171\n        ],\n        \"num_unique_values\": 205,\n        \"semantic_type\": \"\",\n        \"description\": \"\"\n      }\n    },\n    {\n      \"column\": \"Price\",\n      \"properties\": {\n        \"dtype\": \"category\",\n        \"samples\": [\n          \"299\"\n        ],\n        \"num_unique_values\": 511,\n        \"semantic_type\": \"\",\n        \"description\": \"\"\n      }\n    },\n    {\n      \"column\": \"Review Scores Rating\",\n      \"properties\": {\n        \"dtype\": \"number\",\n        \"std\": 8.850373136231736,\n        \"min\": 20.0,\n        \"max\": 100.0,\n        \"samples\": [\n          58.0\n        ],\n        \"num_unique_values\": 51,\n        \"semantic_type\": \"\",\n        \"description\": \"\"\n      }\n    }\n  ]\n}"
            }
          },
          "metadata": {},
          "execution_count": 5
        }
      ]
    },
    {
      "cell_type": "code",
      "source": [
        "price = df['Price']\n",
        "price.unique()"
      ],
      "metadata": {
        "colab": {
          "base_uri": "https://localhost:8080/"
        },
        "id": "RQ78SWNhZpXt",
        "outputId": "bb25eb31-1529-4935-aa50-3baf4f6f4796"
      },
      "id": "RQ78SWNhZpXt",
      "execution_count": 6,
      "outputs": [
        {
          "output_type": "execute_result",
          "data": {
            "text/plain": [
              "array(['145', '37', '28', '199', '549', '149', '250', '90', '270', '290',\n",
              "       '170', '59', '49', '68', '285', '75', '100', '150', '700', '125',\n",
              "       '175', '40', '89', '95', '99', '499', '120', '79', '110', '180',\n",
              "       '143', '230', '350', '135', '85', '60', '70', '55', '44', '200',\n",
              "       '165', '115', '74', '84', '129', '50', '185', '80', '190', '140',\n",
              "       '45', '65', '225', '600', '109', '1,990', '73', '240', '72', '105',\n",
              "       '155', '160', '42', '132', '117', '295', '280', '159', '107', '69',\n",
              "       '239', '220', '399', '130', '375', '585', '275', '139', '260',\n",
              "       '35', '133', '300', '289', '179', '98', '195', '29', '27', '39',\n",
              "       '249', '192', '142', '169', '1,000', '131', '138', '113', '122',\n",
              "       '329', '101', '475', '238', '272', '308', '126', '235', '315',\n",
              "       '248', '128', '56', '207', '450', '215', '210', '385', '445',\n",
              "       '136', '247', '118', '77', '76', '92', '198', '205', '299', '222',\n",
              "       '245', '104', '153', '349', '114', '320', '292', '226', '420',\n",
              "       '500', '325', '307', '78', '265', '108', '123', '189', '32', '58',\n",
              "       '86', '219', '800', '335', '63', '229', '425', '67', '87', '1,200',\n",
              "       '158', '650', '234', '310', '695', '400', '166', '119', '62',\n",
              "       '168', '340', '479', '43', '395', '144', '52', '47', '529', '187',\n",
              "       '209', '233', '82', '269', '163', '172', '305', '156', '550',\n",
              "       '435', '137', '124', '48', '279', '330', '5,000', '134', '378',\n",
              "       '97', '277', '64', '193', '147', '186', '264', '30', '3,000',\n",
              "       '112', '94', '379', '57', '415', '236', '410', '214', '88', '66',\n",
              "       '71', '171', '157', '545', '1,500', '83', '96', '1,800', '81',\n",
              "       '188', '380', '255', '505', '54', '33', '174', '93', '740', '640',\n",
              "       '1,300', '440', '599', '357', '1,239', '495', '127', '5,999',\n",
              "       '178', '348', '152', '242', '183', '253', '750', '259', '365',\n",
              "       '273', '197', '397', '103', '389', '355', '559', '38', '203',\n",
              "       '999', '141', '162', '333', '698', '46', '360', '895', '10', '41',\n",
              "       '206', '281', '449', '388', '212', '102', '201', '2,750', '4,750',\n",
              "       '432', '675', '167', '390', '298', '339', '194', '302', '211',\n",
              "       '595', '191', '53', '361', '480', '8,000', '4,500', '459', '997',\n",
              "       '345', '216', '218', '111', '735', '276', '91', '490', '850',\n",
              "       '398', '36', '775', '267', '625', '336', '2,500', '176', '725',\n",
              "       '3,750', '469', '106', '460', '287', '575', '227', '263', '25',\n",
              "       '228', '208', '177', '880', '148', '116', '685', '470', '217',\n",
              "       '164', '61', '645', '699', '405', '252', '319', '268', '419',\n",
              "       '343', '525', '311', '840', '154', '294', '950', '409', '184',\n",
              "       '257', '204', '241', '2,000', '412', '121', '288', '196', '900',\n",
              "       '647', '524', '1,750', '309', '510', '1,495', '1,700', '799',\n",
              "       '383', '372', '492', '327', '1,999', '656', '224', '173', '875',\n",
              "       '1,170', '795', '690', '146', '465', '1,100', '151', '274', '429',\n",
              "       '825', '282', '256', '1,111', '620', '271', '161', '51', '855',\n",
              "       '579', '1,174', '430', '20', '899', '649', '485', '181', '455',\n",
              "       '4,000', '243', '342', '590', '560', '374', '437', '232', '359',\n",
              "       '985', '31', '244', '254', '723', '237', '428', '370', '34',\n",
              "       '1,400', '580', '2,520', '221', '749', '1,600', '2,695', '306',\n",
              "       '202', '680', '570', '520', '223', '2,295', '213', '1,065', '346',\n",
              "       '24', '286', '296', '266', '26', '995', '1,368', '393', '182',\n",
              "       '635', '258', '780', '589', '347', '1,250', '1,350', '446',\n",
              "       '3,200', '1,050', '1,650', '1,550', '975', '323', '6,500', '2,499',\n",
              "       '1,850', '2,250', '715', '461', '540', '356', '439', '384', '569',\n",
              "       '1,900', '22', '785', '626', '830', '318', '444', '321', '401',\n",
              "       '1,499', '888', '369', '770', '386', '366', '344', '630', '313',\n",
              "       '597', '262', '509', '10,000', '278', '312', '789', '1,195', '422',\n",
              "       '21', '765', '3,500', '945', '326', '3,100', '2,486', '3,390',\n",
              "       '1,356', '2,599', '472', '454', '328', '396', '291'], dtype=object)"
            ]
          },
          "metadata": {},
          "execution_count": 6
        }
      ]
    },
    {
      "cell_type": "code",
      "source": [
        "price = price.str.replace(',','')\n",
        "price = pd.to_numeric(price,errors='coerce')"
      ],
      "metadata": {
        "id": "_070mS3NcFVN",
        "outputId": "57402732-e60c-4cf2-8b5f-a6ec164d83d0",
        "colab": {
          "base_uri": "https://localhost:8080/",
          "height": 339
        }
      },
      "id": "_070mS3NcFVN",
      "execution_count": 8,
      "outputs": [
        {
          "output_type": "error",
          "ename": "AttributeError",
          "evalue": "Can only use .str accessor with string values!",
          "traceback": [
            "\u001b[0;31m---------------------------------------------------------------------------\u001b[0m",
            "\u001b[0;31mAttributeError\u001b[0m                            Traceback (most recent call last)",
            "\u001b[0;32m<ipython-input-8-db9a775c7a2c>\u001b[0m in \u001b[0;36m<cell line: 1>\u001b[0;34m()\u001b[0m\n\u001b[0;32m----> 1\u001b[0;31m \u001b[0mprice\u001b[0m \u001b[0;34m=\u001b[0m \u001b[0mprice\u001b[0m\u001b[0;34m.\u001b[0m\u001b[0mstr\u001b[0m\u001b[0;34m.\u001b[0m\u001b[0mreplace\u001b[0m\u001b[0;34m(\u001b[0m\u001b[0;34m','\u001b[0m\u001b[0;34m,\u001b[0m\u001b[0;34m''\u001b[0m\u001b[0;34m)\u001b[0m\u001b[0;34m\u001b[0m\u001b[0;34m\u001b[0m\u001b[0m\n\u001b[0m\u001b[1;32m      2\u001b[0m \u001b[0mprice\u001b[0m \u001b[0;34m=\u001b[0m \u001b[0mpd\u001b[0m\u001b[0;34m.\u001b[0m\u001b[0mto_numeric\u001b[0m\u001b[0;34m(\u001b[0m\u001b[0mprice\u001b[0m\u001b[0;34m,\u001b[0m\u001b[0merrors\u001b[0m\u001b[0;34m=\u001b[0m\u001b[0;34m'coerce'\u001b[0m\u001b[0;34m)\u001b[0m\u001b[0;34m\u001b[0m\u001b[0;34m\u001b[0m\u001b[0m\n",
            "\u001b[0;32m/usr/local/lib/python3.10/dist-packages/pandas/core/generic.py\u001b[0m in \u001b[0;36m__getattr__\u001b[0;34m(self, name)\u001b[0m\n\u001b[1;32m   5900\u001b[0m         ):\n\u001b[1;32m   5901\u001b[0m             \u001b[0;32mreturn\u001b[0m \u001b[0mself\u001b[0m\u001b[0;34m[\u001b[0m\u001b[0mname\u001b[0m\u001b[0;34m]\u001b[0m\u001b[0;34m\u001b[0m\u001b[0;34m\u001b[0m\u001b[0m\n\u001b[0;32m-> 5902\u001b[0;31m         \u001b[0;32mreturn\u001b[0m \u001b[0mobject\u001b[0m\u001b[0;34m.\u001b[0m\u001b[0m__getattribute__\u001b[0m\u001b[0;34m(\u001b[0m\u001b[0mself\u001b[0m\u001b[0;34m,\u001b[0m \u001b[0mname\u001b[0m\u001b[0;34m)\u001b[0m\u001b[0;34m\u001b[0m\u001b[0;34m\u001b[0m\u001b[0m\n\u001b[0m\u001b[1;32m   5903\u001b[0m \u001b[0;34m\u001b[0m\u001b[0m\n\u001b[1;32m   5904\u001b[0m     \u001b[0;32mdef\u001b[0m \u001b[0m__setattr__\u001b[0m\u001b[0;34m(\u001b[0m\u001b[0mself\u001b[0m\u001b[0;34m,\u001b[0m \u001b[0mname\u001b[0m\u001b[0;34m:\u001b[0m \u001b[0mstr\u001b[0m\u001b[0;34m,\u001b[0m \u001b[0mvalue\u001b[0m\u001b[0;34m)\u001b[0m \u001b[0;34m->\u001b[0m \u001b[0;32mNone\u001b[0m\u001b[0;34m:\u001b[0m\u001b[0;34m\u001b[0m\u001b[0;34m\u001b[0m\u001b[0m\n",
            "\u001b[0;32m/usr/local/lib/python3.10/dist-packages/pandas/core/accessor.py\u001b[0m in \u001b[0;36m__get__\u001b[0;34m(self, obj, cls)\u001b[0m\n\u001b[1;32m    180\u001b[0m             \u001b[0;31m# we're accessing the attribute of the class, i.e., Dataset.geo\u001b[0m\u001b[0;34m\u001b[0m\u001b[0;34m\u001b[0m\u001b[0m\n\u001b[1;32m    181\u001b[0m             \u001b[0;32mreturn\u001b[0m \u001b[0mself\u001b[0m\u001b[0;34m.\u001b[0m\u001b[0m_accessor\u001b[0m\u001b[0;34m\u001b[0m\u001b[0;34m\u001b[0m\u001b[0m\n\u001b[0;32m--> 182\u001b[0;31m         \u001b[0maccessor_obj\u001b[0m \u001b[0;34m=\u001b[0m \u001b[0mself\u001b[0m\u001b[0;34m.\u001b[0m\u001b[0m_accessor\u001b[0m\u001b[0;34m(\u001b[0m\u001b[0mobj\u001b[0m\u001b[0;34m)\u001b[0m\u001b[0;34m\u001b[0m\u001b[0;34m\u001b[0m\u001b[0m\n\u001b[0m\u001b[1;32m    183\u001b[0m         \u001b[0;31m# Replace the property with the accessor object. Inspired by:\u001b[0m\u001b[0;34m\u001b[0m\u001b[0;34m\u001b[0m\u001b[0m\n\u001b[1;32m    184\u001b[0m         \u001b[0;31m# https://www.pydanny.com/cached-property.html\u001b[0m\u001b[0;34m\u001b[0m\u001b[0;34m\u001b[0m\u001b[0m\n",
            "\u001b[0;32m/usr/local/lib/python3.10/dist-packages/pandas/core/strings/accessor.py\u001b[0m in \u001b[0;36m__init__\u001b[0;34m(self, data)\u001b[0m\n\u001b[1;32m    179\u001b[0m         \u001b[0;32mfrom\u001b[0m \u001b[0mpandas\u001b[0m\u001b[0;34m.\u001b[0m\u001b[0mcore\u001b[0m\u001b[0;34m.\u001b[0m\u001b[0marrays\u001b[0m\u001b[0;34m.\u001b[0m\u001b[0mstring_\u001b[0m \u001b[0;32mimport\u001b[0m \u001b[0mStringDtype\u001b[0m\u001b[0;34m\u001b[0m\u001b[0;34m\u001b[0m\u001b[0m\n\u001b[1;32m    180\u001b[0m \u001b[0;34m\u001b[0m\u001b[0m\n\u001b[0;32m--> 181\u001b[0;31m         \u001b[0mself\u001b[0m\u001b[0;34m.\u001b[0m\u001b[0m_inferred_dtype\u001b[0m \u001b[0;34m=\u001b[0m \u001b[0mself\u001b[0m\u001b[0;34m.\u001b[0m\u001b[0m_validate\u001b[0m\u001b[0;34m(\u001b[0m\u001b[0mdata\u001b[0m\u001b[0;34m)\u001b[0m\u001b[0;34m\u001b[0m\u001b[0;34m\u001b[0m\u001b[0m\n\u001b[0m\u001b[1;32m    182\u001b[0m         \u001b[0mself\u001b[0m\u001b[0;34m.\u001b[0m\u001b[0m_is_categorical\u001b[0m \u001b[0;34m=\u001b[0m \u001b[0mis_categorical_dtype\u001b[0m\u001b[0;34m(\u001b[0m\u001b[0mdata\u001b[0m\u001b[0;34m.\u001b[0m\u001b[0mdtype\u001b[0m\u001b[0;34m)\u001b[0m\u001b[0;34m\u001b[0m\u001b[0;34m\u001b[0m\u001b[0m\n\u001b[1;32m    183\u001b[0m         \u001b[0mself\u001b[0m\u001b[0;34m.\u001b[0m\u001b[0m_is_string\u001b[0m \u001b[0;34m=\u001b[0m \u001b[0misinstance\u001b[0m\u001b[0;34m(\u001b[0m\u001b[0mdata\u001b[0m\u001b[0;34m.\u001b[0m\u001b[0mdtype\u001b[0m\u001b[0;34m,\u001b[0m \u001b[0mStringDtype\u001b[0m\u001b[0;34m)\u001b[0m\u001b[0;34m\u001b[0m\u001b[0;34m\u001b[0m\u001b[0m\n",
            "\u001b[0;32m/usr/local/lib/python3.10/dist-packages/pandas/core/strings/accessor.py\u001b[0m in \u001b[0;36m_validate\u001b[0;34m(data)\u001b[0m\n\u001b[1;32m    233\u001b[0m \u001b[0;34m\u001b[0m\u001b[0m\n\u001b[1;32m    234\u001b[0m         \u001b[0;32mif\u001b[0m \u001b[0minferred_dtype\u001b[0m \u001b[0;32mnot\u001b[0m \u001b[0;32min\u001b[0m \u001b[0mallowed_types\u001b[0m\u001b[0;34m:\u001b[0m\u001b[0;34m\u001b[0m\u001b[0;34m\u001b[0m\u001b[0m\n\u001b[0;32m--> 235\u001b[0;31m             \u001b[0;32mraise\u001b[0m \u001b[0mAttributeError\u001b[0m\u001b[0;34m(\u001b[0m\u001b[0;34m\"Can only use .str accessor with string values!\"\u001b[0m\u001b[0;34m)\u001b[0m\u001b[0;34m\u001b[0m\u001b[0;34m\u001b[0m\u001b[0m\n\u001b[0m\u001b[1;32m    236\u001b[0m         \u001b[0;32mreturn\u001b[0m \u001b[0minferred_dtype\u001b[0m\u001b[0;34m\u001b[0m\u001b[0;34m\u001b[0m\u001b[0m\n\u001b[1;32m    237\u001b[0m \u001b[0;34m\u001b[0m\u001b[0m\n",
            "\u001b[0;31mAttributeError\u001b[0m: Can only use .str accessor with string values!"
          ]
        }
      ]
    },
    {
      "cell_type": "code",
      "source": [
        "print( 'Total missing: ', sum( price.isnull() ) )"
      ],
      "metadata": {
        "id": "c_qMBdcjnG9N",
        "outputId": "9a6b5102-7301-433c-9833-99e15f261b43",
        "colab": {
          "base_uri": "https://localhost:8080/"
        }
      },
      "id": "c_qMBdcjnG9N",
      "execution_count": 9,
      "outputs": [
        {
          "output_type": "stream",
          "name": "stdout",
          "text": [
            "Total missing:  0\n"
          ]
        }
      ]
    },
    {
      "cell_type": "code",
      "source": [
        "df = pd.read_csv('./wrangling/data/sharks.csv', low_memory=False)\n",
        "df['Type'].value_counts()\n",
        "\n",
        "type = df['Type']\n",
        "\n",
        "type = type.replace(['Sea Disaster', 'Boat','Boating','Boatomg'],'Watercraft')\n",
        "\n",
        "type = type.replace(['Invalid', 'Questionable','Unconfirmed','Unverified','Under investigation'], np.nan)\n",
        "\n",
        "df['Type'] = type\n",
        "del type\n",
        "\n",
        "df['Type'].value_counts()"
      ],
      "metadata": {
        "id": "u3QqLCFknvxr",
        "outputId": "205a2cd5-4dca-4baf-9109-15b34b8fddcc",
        "colab": {
          "base_uri": "https://localhost:8080/"
        }
      },
      "id": "u3QqLCFknvxr",
      "execution_count": 12,
      "outputs": [
        {
          "output_type": "execute_result",
          "data": {
            "text/plain": [
              "Unprovoked    4716\n",
              "Provoked       593\n",
              "Watercraft     583\n",
              "Name: Type, dtype: int64"
            ]
          },
          "metadata": {},
          "execution_count": 12
        }
      ]
    },
    {
      "cell_type": "markdown",
      "id": "649494cd-cfd6-4f80-992a-9994fc19e1d5",
      "metadata": {
        "id": "649494cd-cfd6-4f80-992a-9994fc19e1d5"
      },
      "source": [
        "**Q3.** Many important datasets contain a race variable, typically limited to a handful of values often including Black, White, Asian, Latino, and Indigenous. This question looks at data gathering efforts on this variable by the U.S. Federal government.\n",
        "\n",
        "1. How did the most recent US Census gather data on race?\n",
        "2. Why do we gather these data? What role do these kinds of data play in politics and society? Why does data quality matter?\n",
        "3. Please provide a constructive criticism of how the Census was conducted: What was done well? What do you think was missing? How should future large scale surveys be adjusted to best reflect the diversity of the population? Could some of the Census' good practices be adopted more widely to gather richer and more useful data?\n",
        "4. How did the Census gather data on sex and gender? Please provide a similar constructive criticism of their practices.\n",
        "5. When it comes to cleaning data, what concerns do you have about protected characteristics like sex, gender, sexual identity, or race? What challenges can you imagine arising when there are missing values? What good or bad practices might people adopt, and why?\n",
        "6. Suppose someone invented an algorithm to impute values for protected characteristics like race, gender, sex, or sexuality. What kinds of concerns would you have?"
      ]
    }
  ],
  "metadata": {
    "colab": {
      "provenance": []
    },
    "kernelspec": {
      "display_name": "Python 3 (ipykernel)",
      "language": "python",
      "name": "python3"
    },
    "language_info": {
      "codemirror_mode": {
        "name": "ipython",
        "version": 3
      },
      "file_extension": ".py",
      "mimetype": "text/x-python",
      "name": "python",
      "nbconvert_exporter": "python",
      "pygments_lexer": "ipython3",
      "version": "3.10.4"
    }
  },
  "nbformat": 4,
  "nbformat_minor": 5
}